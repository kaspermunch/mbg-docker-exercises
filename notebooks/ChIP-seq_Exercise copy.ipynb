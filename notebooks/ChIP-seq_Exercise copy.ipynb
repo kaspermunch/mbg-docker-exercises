{
 "cells": [
  {
   "cell_type": "markdown",
   "metadata": {
    "id": "5w5CddFJxGYq"
   },
   "source": [
    "# **Preface** :)\n",
    "\n",
    "> 🟧 Jupyter Notebooks\n",
    ">\n",
    "> This interface is called *jupyter notebook* (from now on notebook) and, in this case, it is served within the free tool *Google collab*. Inside this notebook you can write code and text, which makes it perfect for sharing and reporting data analyses. It also allows to download data, insert images or install packages, all within the notebook.\n"
   ]
  },
  {
   "cell_type": "code",
   "execution_count": 2,
   "metadata": {},
   "outputs": [
    {
     "name": "stdout",
     "output_type": "stream",
     "text": [
      "Channels:\n",
      " - bioconda\n",
      " - conda-forge\n",
      " - maximinio\n",
      " - defaults\n",
      "Platform: linux-64\n",
      "Collecting package metadata (repodata.json): ...working... done\n",
      "Solving environment: ...working... \u001b[33m\u001b[1mwarning  libmamba\u001b[m Added empty dependency for problem type SOLVER_RULE_UPDATE\n",
      "failed\n",
      "\n",
      "LibMambaUnsatisfiableError: Encountered problems while solving:\n",
      "  - package macs3-3.0.0a6-py38_0 requires python >=3.8,<3.9.0a0, but none of the providers can be installed\n",
      "  - package bowtie2-2.2.1-py27h2bce143_4 requires python >=2.7,<2.8.0a0, but none of the providers can be installed\n",
      "\n",
      "Could not solve for environment specs\n",
      "The following packages are incompatible\n",
      "├─ \u001b[32mbowtie2\u001b[0m is installable with the potential options\n",
      "│  ├─ \u001b[32mbowtie2 [2.2.1|2.2.4|...|2.3.5.1]\u001b[0m would require\n",
      "│  │  └─ \u001b[32mpython [2.7* |>=2.7,<2.8.0a0 ]\u001b[0m, which can be installed;\n",
      "│  ├─ \u001b[32mbowtie2 [2.2.1|2.2.4|...|2.3.4.3]\u001b[0m would require\n",
      "│  │  └─ \u001b[32mpython [3.5* |>=3.5,<3.6.0a0 ]\u001b[0m, which can be installed;\n",
      "│  ├─ \u001b[32mbowtie2 [2.2.1|2.2.4|...|2.5.1]\u001b[0m would require\n",
      "│  │  └─ \u001b[32mpython >=3.6,<3.7.0a0 \u001b[0m, which can be installed;\n",
      "│  ├─ \u001b[32mbowtie2 [2.2.1|2.2.4|...|2.5.1]\u001b[0m would require\n",
      "│  │  └─ \u001b[32mpython >=3.7,<3.8.0a0 \u001b[0m, which can be installed;\n",
      "│  ├─ \u001b[32mbowtie2 [2.2.1|2.2.4|...|2.5.3]\u001b[0m would require\n",
      "│  │  └─ \u001b[32mpython >=3.8,<3.9.0a0 \u001b[0m, which can be installed;\n",
      "│  ├─ \u001b[32mbowtie2 [2.2.1|2.2.4|...|2.5.3]\u001b[0m would require\n",
      "│  │  └─ \u001b[32mpython >=3.9,<3.10.0a0 \u001b[0m, which can be installed;\n",
      "│  ├─ \u001b[32mbowtie2 [2.2.4|2.2.5|...|2.3.0]\u001b[0m would require\n",
      "│  │  └─ \u001b[32mpython 3.4* \u001b[0m, which can be installed;\n",
      "│  ├─ \u001b[32mbowtie2 [2.2.4|2.2.5|...|2.3.4.1]\u001b[0m would require\n",
      "│  │  └─ \u001b[32mpython 3.6* \u001b[0m, which can be installed;\n",
      "│  └─ \u001b[32mbowtie2 [2.4.5|2.5.0|2.5.1|2.5.2|2.5.3]\u001b[0m would require\n",
      "│     └─ \u001b[32mpython >=3.10,<3.11.0a0 \u001b[0m, which can be installed;\n",
      "├─ \u001b[32mmacs3\u001b[0m is installable and it requires\n",
      "│  └─ \u001b[32mpython >=3.8,<3.9.0a0 \u001b[0m, which can be installed;\n",
      "└─ \u001b[31mpin-1\u001b[0m is not installable because it requires\n",
      "   └─ \u001b[31mpython 3.11.* \u001b[0m, which conflicts with any installable versions previously reported.\n",
      "\n",
      "Pins seem to be involved in the conflict. Currently pinned specs:\n",
      " - python 3.11.* (labeled as 'pin-1')\n",
      "\n",
      "\n"
     ]
    }
   ],
   "source": [
    "! conda install -c bioconda -c conda-forge -c maximinio -q -y \\\n",
    "  macs3 bowtie2 samtools bioconductor-chipseeker bioconductor-txdb.hsapiens.ucsc.hg38.knowngene"
   ]
  },
  {
   "cell_type": "markdown",
   "metadata": {
    "id": "Ny37axgaaexb"
   },
   "source": [
    "> How to use this notebook?\n",
    ">\n",
    "> - You can run the code in each cell by clicking on the run cell sign, when the code finished running a small green check sign will appear on the left side\n",
    ">\n",
    "> - You need to run the cells in **sequential order**, please do not run a cell until the one above finished running and do not skip any cells\n",
    ">\n",
    "> - Each cell contains a short description of the code and the output you should get. Please try not to focus on understanding what each command line does, as this is not the purpose of the exercise\n",
    "\n",
    "\n",
    "Now that you know where you are and how to proceed, let's introduce our topic for today - ***ChIP-seq***!"
   ]
  },
  {
   "cell_type": "markdown",
   "metadata": {
    "id": "MYBE7fofZp08"
   },
   "source": [
    "# **ChIP-seq data analysis**\n",
    "\n",
    "### **What is ChIP-seq?**\n",
    "\n",
    "ChIP-seq (Chromatin immunoprecipitation followed by high-throughput sequencing ) has become the most used technology for the identification of target sites for DNA-binding proteins.\n",
    "\n",
    "Below there is a graphical overview of the steps in a ChIP-seq experiment and analysis:"
   ]
  },
  {
   "cell_type": "markdown",
   "metadata": {
    "id": "zLP2wbBbpiKa"
   },
   "source": [
    "## <center><img src=https://hbctraining.github.io/Intro-to-ChIPseq/img/chipseq_overall.png width=\"500\"> <center>"
   ]
  },
  {
   "cell_type": "markdown",
   "metadata": {
    "id": "Ik9Bz84vpiBZ"
   },
   "source": [
    "As the figure shows, the idea is to use an antibody to target our protein of interest and recover the DNA involved in the protein binding. Given that information, we can create a map to visualize and investigate the binding sites (in other words, where the association between DNA and protein happened).\n",
    "\n",
    "**In this notebook:**\n",
    "\n",
    "We will be working with 2 transcription factors (which are proteins): TATA-binding protein and NF-YA (Nuclear transcription factor Y subunit alpha). We will try to identify binding sites in the human genome for these 2 transcription factors using a bioinformatic approach."
   ]
  },
  {
   "cell_type": "markdown",
   "metadata": {
    "id": "Sx0qUUyfgBnO"
   },
   "source": [
    "### **Hands-on!! First, configure our notebook!**\n",
    "*   Running the cell below will install all the necessary programs that you will  be using, this might take some time, approximately 10 min (Please ignore all the messages you see when installing the various packages)\n",
    "*   You can use this time to go over the ChiP-seq introduction you were presented in the course"
   ]
  },
  {
   "cell_type": "code",
   "execution_count": null,
   "metadata": {
    "id": "H1-h7yff2kCZ"
   },
   "outputs": [],
   "source": [
    "# Install all the necessary programs and packages\n",
    "print(\"Installing bowtie2...\")\n",
    "!sudo apt -y install bowtie2 &> /dev/null\n",
    "print(\"Installing macs3...\")\n",
    "!pip install macs3 &> /dev/null\n",
    "print(\"Installing samtools...\")\n",
    "!sudo apt-get -qq install -y samtools &> /dev/null\n",
    "print(\"Installing miniconda...\")\n",
    "!wget https://repo.anaconda.com/miniconda/Miniconda3-latest-Linux-x86_64.sh -q\n",
    "!bash Miniconda3-latest-Linux-x86_64.sh -b -p /content/miniconda &> /dev/null\n",
    "!rm /content/Miniconda3-latest-Linux-x86_64.sh\n",
    "!/content/miniconda/bin/conda config --add channels bioconda\n",
    "!/content/miniconda/bin/conda config --add channels conda-forge\n",
    "!/content/miniconda/bin/conda install mamba -y &> /dev/null\n",
    "print(\"Creating conda environment...\")\n",
    "!/content/miniconda/bin/conda create --name myenv -y -q &> /dev/null\n",
    "print(\"Installing bioconductor ChIP-seq packages...\")\n",
    "!/content/miniconda/bin/conda install -n myenv bioconductor-chipseeker bioconductor-txdb.hsapiens.ucsc.hg38.knowngene -q -y &>/dev/null\n",
    "print(\"Done!!\")"
   ]
  },
  {
   "cell_type": "code",
   "execution_count": null,
   "metadata": {
    "id": "hNvyR3_mGJEw"
   },
   "outputs": [],
   "source": [
    "# Import python packages (for later!)\n",
    "from IPython.display import Image\n",
    "from IPython.display import display"
   ]
  },
  {
   "cell_type": "markdown",
   "metadata": {
    "id": "eAVWjWE-JORl"
   },
   "source": [
    "### **Download the datasets**\n",
    "\n",
    "The command lines below will download the raw data you will be working with. The files are stored in a GitHub repository (read more about it here: [GitHub](https://docs.github.com/en/repositories/creating-and-managing-repositories/about-repositories)). You will be working with 2 small ChIP-seq experiments. One library for the TATA-binding protein (TBP) and the other for the NF-YA transcription factor. For the purpose of the exercise we will be using as reference a small portion of the human genome, the first 10 Mbp of Chromosome 1."
   ]
  },
  {
   "cell_type": "code",
   "execution_count": null,
   "metadata": {
    "id": "8cuLRWN9FIeM"
   },
   "outputs": [],
   "source": [
    "!rm -r sample_data/\n",
    "!rm -rf data\n",
    "!git clone https://github.com/adriangeerre/MBG_Exercise.git data"
   ]
  },
  {
   "cell_type": "markdown",
   "metadata": {
    "id": "XJFNsuWG7sy7"
   },
   "source": [
    "\n",
    "*   You can check the downloaded files on the left panel, by clicking on \"Files\" tab and navigating to the data folder.\n",
    "*   Sequenced reads are saved in .fastq files, while the genome data is stored in a .fasta file."
   ]
  },
  {
   "cell_type": "markdown",
   "metadata": {
    "id": "bTKdrrE2jc4m"
   },
   "source": [
    "### **Data Analysis**"
   ]
  },
  {
   "cell_type": "markdown",
   "metadata": {
    "id": "Oq8numEOkAYY"
   },
   "source": [
    "We will now analyse the data to identify binding sites for our 2 transcription factors.\n",
    "\n",
    "\n",
    "---\n",
    "\n",
    "\n",
    "Initial parts of the analysis of sequenced reads include **read alignment, filtering and peak calling**.\n",
    "\n",
    "> We will use the program called *Bowtie2* to align the reads in the 2 fastq files to our reference sequence (10 Mbp of the human genome). This will help us determine where on the human genome our reads originated from, thus where the transcription factors bind to DNA.\n",
    "\n",
    "> Afterwards, we will keep only the reads that mapped with high quality to the part of the human genome we are interested in. We will use the samtools program for this step.\n",
    "\n",
    "> The output will be 2 alignment files (.bam). We will use these files in the next steps.\n",
    "\n",
    "\n"
   ]
  },
  {
   "cell_type": "markdown",
   "metadata": {
    "id": "ql85Y-hw0srW"
   },
   "source": [
    "> 🟧 Read alignment\n",
    ">\n",
    "> *Read alignment* is a term that refers to mapping DNA sequences to a reference. This is a computational approach that can vary depending on the parameters given to the algorithms. Moreover, years ago the SAM format was established to report read alignment. Basically, SAM files contain information on where and how a read align to the reference, allowing us to clean and analyse the alignment. The software *Samtools* was developed to handle SAM files, among others."
   ]
  },
  {
   "cell_type": "code",
   "execution_count": null,
   "metadata": {
    "id": "MXoI46JsrDQE"
   },
   "outputs": [],
   "source": [
    "# Read alignment\n",
    "!mkdir -p bowtie_index\n",
    "!bowtie2-build /content/data/NC_000001.11_subset.fasta bowtie_index/Chr1_index > /dev/null\n",
    "\n",
    "!mkdir -p bowtie2_results\n",
    "!bowtie2 -q --local \\\n",
    "-x  bowtie_index/Chr1_index \\\n",
    "-U /content/data/TBP_chr1_subset.fastq \\\n",
    "-S bowtie2_results/TBP_chr1.sam &> bowtie2_results/TBP_chr1.log\n",
    "\n",
    "!bowtie2 -q --local \\\n",
    "-x  bowtie_index/Chr1_index \\\n",
    "-U /content/data/NF-YA_chr1_subset.fastq \\\n",
    "-S bowtie2_results/NF-YA_chr1.sam &> bowtie2_results/NF-YA_chr1.log\n",
    "\n",
    "# Check Log\n",
    "!echo \"TBP:\"\n",
    "!cat bowtie2_results/TBP_chr1.log\n",
    "!echo \"\"\n",
    "!echo \"NF-YA:\"\n",
    "!cat bowtie2_results/NF-YA_chr1.log\n",
    "\n",
    "# Compress SAM output\n",
    "!samtools view -q 10 -u bowtie2_results/TBP_chr1.sam | samtools sort -o bowtie2_results/TBP_chr1_sorted.bam\n",
    "!samtools view -q 10 -u bowtie2_results/NF-YA_chr1.sam | samtools sort -o bowtie2_results/NF-YA_chr1_sorted.bam\n",
    "!samtools index bowtie2_results/TBP_chr1_sorted.bam\n",
    "!samtools index bowtie2_results/NF-YA_chr1_sorted.bam"
   ]
  },
  {
   "cell_type": "code",
   "execution_count": null,
   "metadata": {
    "cellView": "form",
    "id": "-uyzz-XJEmSV"
   },
   "outputs": [],
   "source": [
    "# @title # ❓ Question:\n",
    "\n",
    "#@markdown Once you run the read alignment, you should be able to see the summary of the alignment process (one per fastq file)\n",
    "\n",
    "#@markdown **Q.1: How many reads did each fastq contain?**\n",
    "\n",
    "TBP = \"\" #@param {type:\"string\"}\n",
    "NF-YA = \"\" #@param {type:\"string\"}\n",
    "\n",
    "#@markdown **Q.2: What was the percentage of reads aligned to the Chromosome 1?**\n",
    "\n",
    "TBP = \"\" #@param {type:\"string\"}\n",
    "NF-YA = \"\" #@param {type:\"string\"}"
   ]
  },
  {
   "cell_type": "markdown",
   "metadata": {
    "id": "uYup0J7GkiiH"
   },
   "source": [
    "### **Peak calling**\n",
    "\n",
    "We can now identify binding sites for the transcription factors, these are also called peaks. These are just regions in the genome where a high number of reads are bound, indicating that the region might be a transcription factor binding site.\n",
    "\n",
    "The identification of peaks is done\n",
    "\n",
    "> We will use the program macs3 to call peaks for the 2 previously generated alignment files.\n",
    "\n",
    "## <center><img src=https://hbctraining.github.io/Intro-to-ChIPseq/img/plos_chipseq_arrow.png width=\"600\"> <center>"
   ]
  },
  {
   "cell_type": "code",
   "execution_count": null,
   "metadata": {
    "id": "IljKmW2XLCza"
   },
   "outputs": [],
   "source": [
    "!mkdir -p macs3_results\n",
    "!macs3 callpeak -t /content/bowtie2_results/TBP_chr1_sorted.bam -f BAM -g 10000000 --outdir /content/macs3_results/ -m 1 100 -n TBP --verbose 0\n",
    "!macs3 callpeak -t /content/bowtie2_results/NF-YA_chr1_sorted.bam -f BAM -g 10000000 --outdir /content/macs3_results/ -m 1 100 -n NF-YA --verbose 0"
   ]
  },
  {
   "cell_type": "markdown",
   "metadata": {
    "id": "Jl7x9JblwgiJ"
   },
   "source": [
    "The cell below gives a summary of the number of binding sites identified for each of the 2 transcription factors.\n"
   ]
  },
  {
   "cell_type": "code",
   "execution_count": null,
   "metadata": {
    "id": "10WaRbh6o8L1"
   },
   "outputs": [],
   "source": [
    "!wc -l /content/macs3_results/*.narrowPeak"
   ]
  },
  {
   "cell_type": "markdown",
   "metadata": {
    "id": "NRUs3mD0mCb6"
   },
   "source": [
    "\n",
    "> 🟧 MACS3 output\n",
    ">\n",
    "> *Peak Calling* is a complex topic and we are not going to discuss how peaks are identified because it is out of the scope of this exercise. You can find more information [here](https://hbctraining.github.io/Intro-to-ChIPseq/lessons/05_peak_calling_macs.html), if you are interested. Nonetheless, we can have a look at the peak identification output produced by MACS3:\n"
   ]
  },
  {
   "cell_type": "code",
   "execution_count": null,
   "metadata": {
    "id": "lxti7DfJnVF_"
   },
   "outputs": [],
   "source": [
    "# Visualize MACS3 output (TBP)\n",
    "!printf \"Chromosome\\tStart\\tEnd\\tPeak_Name\\tScore\\tStrand\\tSignal\\tPvalue (-log10)\\tQvalue (-log10)\\tPoint_source\\n\"\n",
    "!head -n 3 /content/macs3_results/TBP_peaks.narrowPeak"
   ]
  },
  {
   "cell_type": "markdown",
   "metadata": {
    "id": "9BuknNHdsNIw"
   },
   "source": [
    "> Let's focus on several columns:\n",
    ">\n",
    "> - *Score*: Value for visualization in Genome Browser (higher = darker)\n",
    "> - *Signal*: Overall enrichment for the region\n",
    "> - *Pvalue*: Statistical significance; probability of the peak identification\n",
    "> - *Qvalue*: P-value corrected for False Positives identifactions\n",
    "> - *Point_Source*: Location of the offset within the peak range\n",
    ">\n",
    "> The last 4 columns are specific of MACS3 output while the first 6 columns are obtained from other file type (BED)."
   ]
  },
  {
   "cell_type": "code",
   "execution_count": null,
   "metadata": {
    "cellView": "form",
    "id": "WlcGt51pJPw3"
   },
   "outputs": [],
   "source": [
    "# @title # ❓ Question:\n",
    "\n",
    "#@markdown **Q.3: Are the number of peaks identified for TBP and NF-YA similar?**\n",
    "\n",
    "Answer = \"\" #@param {type:\"string\"}"
   ]
  },
  {
   "cell_type": "markdown",
   "metadata": {
    "id": "SXxC9iQWyeZW"
   },
   "source": [
    "### **IGV genome browser**\n",
    "\n",
    "> 🟧 Genome browser\n",
    ">\n",
    "> *Genome browser* is a term that describes a website or program that allows to visualize data associated to a genome (for example, read alignments). A well known web is the [USCS](https://cirm.ucsc.edu/index) and a widely used software is the [IGV](https://software.broadinstitute.org/software/igv/) (or Integrative Genome Viewer).\n"
   ]
  },
  {
   "cell_type": "markdown",
   "metadata": {
    "id": "V5hXX1_4HHDG"
   },
   "source": [
    "We will now download all the data generated so far and upload it to a genome browser, to visualize the mapped reads and the binding sites for the transcription factors.\n",
    "\n",
    "> Run the cell below and pick a place on your computer where to save the *.zip* file. Find the file on your computer and extract the archive. You should have a folder named **IGV_files**, which contains 6 files.\n"
   ]
  },
  {
   "cell_type": "code",
   "execution_count": null,
   "metadata": {
    "id": "6-ajHG_o6Y5d"
   },
   "outputs": [],
   "source": [
    "#Files for IGV\n",
    "!mkdir -p IGV_files\n",
    "!cp /content/bowtie2_results/NF-YA_chr1_sorted.bam /content/IGV_files/NF-YA_chr1_sorted.bam\n",
    "!cp /content/bowtie2_results/NF-YA_chr1_sorted.bam.bai /content/IGV_files/NF-YA_chr1_sorted.bam.bai\n",
    "!cp /content/bowtie2_results/TBP_chr1_sorted.bam /content/IGV_files/TBP_chr1_sorted.bam\n",
    "!cp /content/bowtie2_results/TBP_chr1_sorted.bam.bai  /content/IGV_files/TBP_chr1_sorted.bam.bai\n",
    "!cp /content/macs3_results/NF-YA_peaks.narrowPeak /content/IGV_files/NF-YA_peaks.narrowPeak\n",
    "!cp /content/macs3_results/TBP_peaks.narrowPeak /content/IGV_files/TBP_peaks.narrowPeak\n",
    "\n",
    "!zip -r IGV_files.zip IGV_files\n",
    "from google.colab import files\n",
    "files.download(\"IGV_files.zip\")"
   ]
  },
  {
   "cell_type": "markdown",
   "metadata": {
    "id": "kCrgNfEY8VEU"
   },
   "source": [
    "\n",
    "> Open the link: https://igv.org/app/\n",
    "\n",
    "> Click on the \"Tracks\" tab and then on \"Local file...\". Navigate to the place where you saved the \"IGV_files\" folder on your computer and pick all 6 files in the folder. Click open.\n",
    "\n",
    "## <center><img src=https://raw.githubusercontent.com/adriangeerre/MBG_Exercise/main/IGVapp_explained.png width=\"600\"> <center>\n",
    "\n",
    "> **Remember we are only working with the first 10 Mbp of Chromosome 1, Zoom in on that region.** Do this by using the right-most white box, in the second row below *Session*. For example, *chr4:1-1,000* would show the first thousand bps of Chromosome 4.\n",
    "\n",
    "> Once you have load and adjust the view, you can visualize the ChIP-seq peaks in the genome (called by macs3) and the gene annotations. In order to visualize the reads, you need to zoom in (at the top right of the website or by double clicking on top of a track). The aligned ChIP-seq reads are represented by horizontal grey arrows. On top of the arrow, a coverage barplot is shown.\n",
    "\n",
    "> Below, the \"*Refseq Genes*\" track, blue color bars, represent the genes and their position."
   ]
  },
  {
   "cell_type": "code",
   "execution_count": null,
   "metadata": {
    "cellView": "form",
    "id": "hjJNZkja9JWi"
   },
   "outputs": [],
   "source": [
    "# @title ❓ Question:\n",
    "\n",
    "#@markdown You should see two tracks, one for TBP and one for NF-YA. Try to identify some of the putative binding sites (regions with a high number of aligned reads) for the transcription factors\n",
    "\n",
    "#@markdown **Q.4: Do the identified peaks correspond to large number of aligned reads? Take a few screenshots that prove your answer**\n",
    "\n",
    "Answer = \"\" #@param {type:\"string\"}"
   ]
  },
  {
   "cell_type": "markdown",
   "metadata": {
    "id": "SE02joBQLCOm"
   },
   "source": [
    "Of course, it is not feasible to check all peaks manually and we do not want to bias all decisions. Therefore, we will now computationally analyse the peaks in order to compare the binding sites for TBP and NF-YA transcription factors using the package **ChIPseeker**."
   ]
  },
  {
   "cell_type": "markdown",
   "metadata": {
    "id": "9TH7FWyuFpj0"
   },
   "source": [
    "### **ChIPseeker package in R**"
   ]
  },
  {
   "cell_type": "markdown",
   "metadata": {
    "id": "6lw5nKa86m5o"
   },
   "source": [
    "An R script has already been created and it is stored in: /content/data/RScript.R\n",
    "You can visualize the content of the script by running the cell below.\n",
    "First, the necessary R packages and the files we previously generated using the macs3 program are loaded. Next, we use commads specific to the ChiPseeker package to generate figures that will help you make a comparison between the two transcription factors we are analysing."
   ]
  },
  {
   "cell_type": "markdown",
   "metadata": {
    "id": "hyIWzjG8Aess"
   },
   "source": [
    "You can easily run the R script using the following command line. It will save four plots in the files folder. We will analyze each of the plots created."
   ]
  },
  {
   "cell_type": "code",
   "execution_count": null,
   "metadata": {
    "id": "rpXKGdpeucj4"
   },
   "outputs": [],
   "source": [
    "!/content/miniconda/envs/myenv/bin/Rscript /content/data/RScript.R"
   ]
  },
  {
   "cell_type": "markdown",
   "metadata": {
    "id": "00tUGBGD7FHs"
   },
   "source": [
    "In the IGV browser, you visualized the aligned reads and peaks by zooming in over small regions of the reference sequence.\n",
    "\n",
    "Now, we would like to look at an overview of the peak locations over our entire reference region, 10 MBp from the Chromosome 1 in the human genome.\n",
    "We can do this by generating a coverage plot.\n",
    "\n",
    "FYI:\n",
    "The following command lines were used to generate the plots:\n",
    "> covplot(samplefiles`$`TBP, weightCol=\"V5\",title = \"ChIP Peaks over region - TBP\")\n",
    "\n",
    "> covplot(samplefiles`$`NF_YA, weightCol=\"V5\", title = \"ChIP Peaks over region - NF-YA\")"
   ]
  },
  {
   "cell_type": "code",
   "execution_count": null,
   "metadata": {
    "id": "MzfDNBHw3BZ7"
   },
   "outputs": [],
   "source": [
    "x = Image(\"/content/covplot_TBP.png\", height=200, width=800); y = Image(\"/content/covplot_NFYA.png\", height=200, width=800)\n",
    "display(x, y)"
   ]
  },
  {
   "cell_type": "markdown",
   "metadata": {
    "id": "BoQ_y2lZB5P3"
   },
   "source": [
    "Each vertical line represents a binding site for the transcription factors. The height of the bar represents the number of reads mapped to that specific region (Be aware that the plots have different y-axis scales).\n",
    "\n",
    " You can observe that TBP has many more called peaks than compared to NF-YA."
   ]
  },
  {
   "cell_type": "markdown",
   "metadata": {
    "id": "vF7zxoSi-Azz"
   },
   "source": [
    "We can next identify the regions to which the transcription factors bind, in terms of genomic features(Promoter, intron, exon etc.).\n",
    "\n",
    "FYI: The command lines for creating the plot:\n",
    "> peakAnnoList <- lapply(samplefiles, annotatePeak, TxDb=txdb,\n",
    "                       tssRegion=c(-3000, 3000), verbose=FALSE)\n",
    "> plotAnnoBar(peakAnnoList)"
   ]
  },
  {
   "cell_type": "code",
   "execution_count": null,
   "metadata": {
    "id": "xKzPPt7q2KZX"
   },
   "outputs": [],
   "source": [
    "x= Image(\"/content/plotAnnoBar.png\", width=800, height=500) ; display(x)"
   ]
  },
  {
   "cell_type": "markdown",
   "metadata": {
    "id": "YZE9erbf_I52"
   },
   "source": [
    "As expected a high proportion of the binding sites is located in the **promoter regions**, but we also identified binding sites in other regions of the genes and also in the intergenic regions.\n"
   ]
  },
  {
   "cell_type": "markdown",
   "metadata": {
    "id": "HT1bs6Po_UaY"
   },
   "source": [
    "We've seen that TBP binds to many more sites compared to NF-YA, but let's find out how many binding sites are common for the 2 transcription factors.\n",
    "\n",
    "FYI the script for creating the Venn diagram:\n",
    "\n",
    "> genes= lapply(peakAnnoList, function(i) as.data.frame(i)$geneId)\n",
    "\n",
    "> vennplot(genes)"
   ]
  },
  {
   "cell_type": "code",
   "execution_count": null,
   "metadata": {
    "id": "G5JVLQaz2Gax"
   },
   "outputs": [],
   "source": [
    "x= Image(\"/content/vennplot.png\", width=600) ; display(x)"
   ]
  },
  {
   "cell_type": "markdown",
   "metadata": {
    "id": "glnRwdhpqeai"
   },
   "source": [
    "### **Summary**\n",
    "\n",
    "In this notebook you have:\n",
    "\n",
    "1. Download data from a GitHub repository\n",
    "2. Align ChIP-seq reads for two different transcription factor to the Human Chromosome 1\n",
    "3. Call peaks using the read coverage signal\n",
    "4. Visualize the read coverage of the peaks\n",
    "5. Identify the regions where the transcription factors bind to the DNA\n",
    "6. Compare the genes at the binding regions between the transcription factors\n",
    "\n",
    "🎉🎉🎉 Well done!!"
   ]
  }
 ],
 "metadata": {
  "colab": {
   "collapsed_sections": [
    "ql85Y-hw0srW"
   ],
   "provenance": []
  },
  "kernelspec": {
   "display_name": "Python 3 (ipykernel)",
   "language": "python",
   "name": "python3"
  },
  "language_info": {
   "codemirror_mode": {
    "name": "ipython",
    "version": 3
   },
   "file_extension": ".py",
   "mimetype": "text/x-python",
   "name": "python",
   "nbconvert_exporter": "python",
   "pygments_lexer": "ipython3",
   "version": "3.11.5"
  }
 },
 "nbformat": 4,
 "nbformat_minor": 4
}
